{
  "nbformat": 4,
  "nbformat_minor": 0,
  "metadata": {
    "colab": {
      "provenance": [],
      "mount_file_id": "1ABjJvAjRtEgWU7L3kanSwHaCtre5xpBo",
      "authorship_tag": "ABX9TyPsLaKoNRGijVDhZX7rm9Sa"
    },
    "kernelspec": {
      "name": "python3",
      "display_name": "Python 3"
    },
    "language_info": {
      "name": "python"
    }
  },
  "cells": [
    {
      "cell_type": "code",
      "execution_count": 17,
      "metadata": {
        "id": "cL6kFTeuJ3DT"
      },
      "outputs": [],
      "source": [
        "import pandas as pd\n",
        "\n",
        "dados = pd.read_csv('/content/drive/MyDrive/creditcard.csv')"
      ]
    },
    {
      "cell_type": "code",
      "source": [
        "n_transacao = dados['Time'].count()\n",
        "n_fraude = dados['Class'].sum()\n",
        "n_normal = n_transacao - n_fraude\n",
        "fraude_porc = (n_fraude / n_transacao) * 100\n",
        "normal_porc = (n_normal / n_transacao) * 100\n",
        "\n",
        "print('Número de transações: ', n_transacao)\n",
        "print('Número de fraudes: ', n_fraude, round(fraude_porc, 2),'%')\n",
        "print('Número de transações normais: ', n_normal, round(normal_porc, 2),'%')"
      ],
      "metadata": {
        "id": "mR60RJ6xNxfR",
        "colab": {
          "base_uri": "https://localhost:8080/"
        },
        "outputId": "62fa6f23-b017-484a-828d-8ff88eaeedd1"
      },
      "execution_count": 21,
      "outputs": [
        {
          "output_type": "stream",
          "name": "stdout",
          "text": [
            "Número de transações:  284807\n",
            "Número de fraudes:  492 0.17 %\n",
            "Número de transações normais:  284315 99.83 %\n"
          ]
        }
      ]
    },
    {
      "cell_type": "markdown",
      "source": [
        "Como o dados estão desequilibrados pois temos menos de 1% de fraudes, nosso modelo de Maching learning iria ficar com dados ruins para treinamento e teste, por isso o metodo StratifiedShuffleSplit vai seprar os dados com valores diferentes para que o treinamento e teste sejam mais precisos"
      ],
      "metadata": {
        "id": "CfK-tdj5bI3h"
      }
    },
    {
      "cell_type": "code",
      "source": [
        "from sklearn.model_selection import StratifiedShuffleSplit\n",
        "#N_split vai gerar uma divisão de paramentro\n",
        "#test_Size vai dizer qual o tamanho do volume de teste (10%)\n",
        "#random_state é gera um valor aleatorio no teste\n",
        "def  executar_validador(x,y):\n",
        "  validador = StratifiedShuffleSplit(n_splits=1, test_size=0.1, random_state=0)\n",
        "  for treino_id, teste_id in validador.split(x,y):\n",
        "    x_treino, x_teste = x[treino_id], x[teste_id]\n",
        "    y_treino, y_teste = y[treino_id], y[teste_id]\n",
        "  return x_treino, x_teste, y_treino, y_teste"
      ],
      "metadata": {
        "id": "Cq8_i36gXTlT"
      },
      "execution_count": 30,
      "outputs": []
    },
    {
      "cell_type": "code",
      "source": [
        "%%time\n",
        "from sklearn import tree\n",
        "\n",
        "def executar_classificador(classifcador,x_treino, x_teste, y_treino):\n",
        "\n",
        "  arvore = classifcador.fit(x_treino, y_treino)\n",
        "  y_pred = arvore.predict(x_teste)\n",
        "  return y_pred"
      ],
      "metadata": {
        "colab": {
          "base_uri": "https://localhost:8080/"
        },
        "id": "p44VdsHidF0V",
        "outputId": "ef46d37b-0610-4131-94bc-68487c834e13"
      },
      "execution_count": 34,
      "outputs": [
        {
          "output_type": "stream",
          "name": "stdout",
          "text": [
            "CPU times: user 17 µs, sys: 0 ns, total: 17 µs\n",
            "Wall time: 26.5 µs\n"
          ]
        }
      ]
    },
    {
      "cell_type": "code",
      "source": [
        "import matplotlib.pyplot as plt\n",
        "\n",
        "def salvar_arvore(classificador, nome):\n",
        "  plt.figure(figsize=(200,100))\n",
        "  tree.plot_tree(classificador, filled=True, fontsize=14)\n",
        "  plt.savefig(nome)\n",
        "  plt.close()"
      ],
      "metadata": {
        "id": "ZQWBsWQCgWDE"
      },
      "execution_count": 35,
      "outputs": []
    },
    {
      "cell_type": "code",
      "source": [
        "#Execução do validador\n",
        "x = dados.drop('Class', axis=1).values\n",
        "y = dados['Class'].values\n",
        "x_treino, x_teste, y_treino, y_teste = executar_validador(x,y)"
      ],
      "metadata": {
        "id": "l_pqbhsydrQs"
      },
      "execution_count": 33,
      "outputs": []
    },
    {
      "cell_type": "code",
      "source": [
        "#Execucção do classificador\n",
        "classifcador_arvore_decisao = tree.DecisionTreeClassifier()\n",
        "y_pred_arvore_decisao = executar_classificador(classifcador_arvore_decisao,x_treino, x_teste, y_treino)"
      ],
      "metadata": {
        "id": "1HjN-QTegy10"
      },
      "execution_count": 36,
      "outputs": []
    },
    {
      "cell_type": "code",
      "source": [
        "#criação da figura da arvore de decisão\n",
        "salvar_arvore(classifcador_arvore_decisao, 'arvore_decisao1.png')"
      ],
      "metadata": {
        "id": "KM7xWLFqg1v0"
      },
      "execution_count": 37,
      "outputs": []
    }
  ]
}